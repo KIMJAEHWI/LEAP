{
 "cells": [
  {
   "cell_type": "code",
   "execution_count": 1,
   "id": "9c5b4815",
   "metadata": {},
   "outputs": [],
   "source": [
    "from gensim.models.doc2vec import Doc2Vec, TaggedDocument"
   ]
  },
  {
   "cell_type": "code",
   "execution_count": 2,
   "id": "0f03b822",
   "metadata": {},
   "outputs": [],
   "source": [
    "from nltk.tokenize import word_tokenize"
   ]
  },
  {
   "cell_type": "code",
   "execution_count": 6,
   "id": "7e081f9d",
   "metadata": {},
   "outputs": [],
   "source": [
    "sentences = [\"I love machine learning. Its awesome.\",\n",
    "        \"I love coding in python\",\n",
    "        \"I love building chatbots\",\n",
    "        \"they chat amagingly well\"]"
   ]
  },
  {
   "cell_type": "code",
   "execution_count": 7,
   "id": "d2ad0ce9",
   "metadata": {},
   "outputs": [],
   "source": [
    "tagged_data = []\n",
    "\n",
    "for i, d in enumerate(sentences):\n",
    "    tagged_data.append(TaggedDocument(words=word_tokenize(d.lower()), tags=[str(i)]))"
   ]
  },
  {
   "cell_type": "code",
   "execution_count": 8,
   "id": "9cc53747",
   "metadata": {},
   "outputs": [
    {
     "data": {
      "text/plain": [
       "[TaggedDocument(words=['i', 'love', 'machine', 'learning', '.', 'its', 'awesome', '.'], tags=['0']),\n",
       " TaggedDocument(words=['i', 'love', 'coding', 'in', 'python'], tags=['1']),\n",
       " TaggedDocument(words=['i', 'love', 'building', 'chatbots'], tags=['2']),\n",
       " TaggedDocument(words=['they', 'chat', 'amagingly', 'well'], tags=['3'])]"
      ]
     },
     "execution_count": 8,
     "metadata": {},
     "output_type": "execute_result"
    }
   ],
   "source": [
    "tagged_data"
   ]
  },
  {
   "cell_type": "markdown",
   "id": "609cbe63",
   "metadata": {},
   "source": [
    "### Training"
   ]
  },
  {
   "cell_type": "code",
   "execution_count": 9,
   "id": "4d23df7e",
   "metadata": {},
   "outputs": [],
   "source": [
    "max_epochs = 100 # 학습 100번\n",
    "vec_size = 20 # number of vector dimension (벡터 차원 개수)\n",
    "alpha = 0.025 # 초기 learning rate"
   ]
  },
  {
   "cell_type": "code",
   "execution_count": 10,
   "id": "422e5ad6",
   "metadata": {
    "scrolled": true
   },
   "outputs": [
    {
     "name": "stdout",
     "output_type": "stream",
     "text": [
      "iteration 0\n",
      "iteration 1\n",
      "iteration 2\n",
      "iteration 3\n",
      "iteration 4\n",
      "iteration 5\n",
      "iteration 6\n",
      "iteration 7\n",
      "iteration 8\n",
      "iteration 9\n",
      "iteration 10\n",
      "iteration 11\n",
      "iteration 12\n",
      "iteration 13\n",
      "iteration 14\n",
      "iteration 15\n",
      "iteration 16\n",
      "iteration 17\n",
      "iteration 18\n",
      "iteration 19\n",
      "iteration 20\n",
      "iteration 21\n",
      "iteration 22\n",
      "iteration 23\n",
      "iteration 24\n",
      "iteration 25\n",
      "iteration 26\n",
      "iteration 27\n",
      "iteration 28\n",
      "iteration 29\n",
      "iteration 30\n",
      "iteration 31\n",
      "iteration 32\n",
      "iteration 33\n",
      "iteration 34\n",
      "iteration 35\n",
      "iteration 36\n",
      "iteration 37\n",
      "iteration 38\n",
      "iteration 39\n",
      "iteration 40\n",
      "iteration 41\n",
      "iteration 42\n",
      "iteration 43\n",
      "iteration 44\n",
      "iteration 45\n",
      "iteration 46\n",
      "iteration 47\n",
      "iteration 48\n",
      "iteration 49\n",
      "iteration 50\n",
      "iteration 51\n",
      "iteration 52\n",
      "iteration 53\n",
      "iteration 54\n",
      "iteration 55\n",
      "iteration 56\n",
      "iteration 57\n",
      "iteration 58\n",
      "iteration 59\n",
      "iteration 60\n",
      "iteration 61\n",
      "iteration 62\n",
      "iteration 63\n",
      "iteration 64\n",
      "iteration 65\n",
      "iteration 66\n",
      "iteration 67\n",
      "iteration 68\n",
      "iteration 69\n",
      "iteration 70\n",
      "iteration 71\n",
      "iteration 72\n",
      "iteration 73\n",
      "iteration 74\n",
      "iteration 75\n",
      "iteration 76\n",
      "iteration 77\n",
      "iteration 78\n",
      "iteration 79\n",
      "iteration 80\n",
      "iteration 81\n",
      "iteration 82\n",
      "iteration 83\n",
      "iteration 84\n",
      "iteration 85\n",
      "iteration 86\n",
      "iteration 87\n",
      "iteration 88\n",
      "iteration 89\n",
      "iteration 90\n",
      "iteration 91\n",
      "iteration 92\n",
      "iteration 93\n",
      "iteration 94\n",
      "iteration 95\n",
      "iteration 96\n",
      "iteration 97\n",
      "iteration 98\n",
      "iteration 99\n",
      "Model.saved\n"
     ]
    }
   ],
   "source": [
    "model = Doc2Vec(vector_size=vec_size, alpha=alpha, min_alpha=0.00025, min_count=1, dm=1) \n",
    "# dm = 1 (PV-DM, distributed memory, 0이면, PV-DBOW, distributed bag of words)\n",
    "\n",
    "model.build_vocab(tagged_data)\n",
    "\n",
    "for epoch in range(max_epochs):\n",
    "    print(f\"iteration {epoch}\")\n",
    "    model.train(tagged_data, total_examples=model.corpus_count, epochs=model.epochs)\n",
    "    # learning rate 감소\n",
    "    model.alpha -= 0.0002 # 0.0002씩 감소 시키면서 학습\n",
    "    # learning rate 고정 \n",
    "    model.min_alpha = model.alpha\n",
    "\n",
    "model.save(\"d2v.model\")\n",
    "print(\"Model.saved\")"
   ]
  },
  {
   "cell_type": "markdown",
   "id": "d37a6b43",
   "metadata": {},
   "source": [
    "#### test_data를 토큰화하여 vector를 만드는 과정"
   ]
  },
  {
   "cell_type": "code",
   "execution_count": 11,
   "id": "17bfa7cf",
   "metadata": {},
   "outputs": [
    {
     "name": "stdout",
     "output_type": "stream",
     "text": [
      "V1_infer [-0.02625987 -0.00292833  0.02067595 -0.00482254  0.0167065  -0.02450037\n",
      "  0.00549205  0.00129894 -0.02022499  0.0021243  -0.01183919  0.01597496\n",
      "  0.00086636 -0.01064102 -0.02188106 -0.0089807  -0.00907736  0.0061656\n",
      "  0.0121739  -0.00782044]\n"
     ]
    }
   ],
   "source": [
    "model = Doc2Vec.load(\"d2v.model\")\n",
    "\n",
    "test_data = word_tokenize(\"I love chatbots\".lower())\n",
    "v1 = model.infer_vector(test_data)\n",
    "\n",
    "print(\"V1_infer\", v1)"
   ]
  },
  {
   "cell_type": "code",
   "execution_count": 22,
   "id": "120cafbd",
   "metadata": {},
   "outputs": [
    {
     "name": "stdout",
     "output_type": "stream",
     "text": [
      "I love building chatbots --> 0.912226676940918\n",
      "I love machine learning. Its awesome. --> 0.7618046998977661\n",
      "they chat amagingly well --> 0.7178292274475098\n"
     ]
    },
    {
     "name": "stderr",
     "output_type": "stream",
     "text": [
      "C:\\Users\\pilot\\AppData\\Local\\Temp/ipykernel_8464/847519360.py:1: DeprecationWarning: Call to deprecated `docvecs` (The `docvecs` property has been renamed `dv`.).\n",
      "  similar_doc = model.docvecs.most_similar('1')\n"
     ]
    }
   ],
   "source": [
    "# 0번 문장 : I love machine learning. Its awesome.\n",
    "similar_doc = model.docvecs.most_similar('0')\n",
    "\n",
    "for index, similarity in similar_doc:\n",
    "    index = int(index)\n",
    "    print(f\"{sentences[index]} --> {similarity}\")"
   ]
  },
  {
   "cell_type": "code",
   "execution_count": 26,
   "id": "6a2fe892",
   "metadata": {},
   "outputs": [
    {
     "name": "stdout",
     "output_type": "stream",
     "text": [
      "I love building chatbots --> 0.912226676940918\n",
      "I love machine learning. Its awesome. --> 0.7618046998977661\n",
      "they chat amagingly well --> 0.7178292274475098\n"
     ]
    },
    {
     "name": "stderr",
     "output_type": "stream",
     "text": [
      "C:\\Users\\pilot\\AppData\\Local\\Temp/ipykernel_8464/847519360.py:1: DeprecationWarning: Call to deprecated `docvecs` (The `docvecs` property has been renamed `dv`.).\n",
      "  similar_doc = model.docvecs.most_similar('1')\n"
     ]
    }
   ],
   "source": [
    "# 1번 문장 : I love coding in python\n",
    "similar_doc = model.docvecs.most_similar('1')\n",
    "\n",
    "for index, similarity in similar_doc:\n",
    "    index = int(index)\n",
    "    print(f\"{sentences[index]} --> {similarity}\")"
   ]
  },
  {
   "cell_type": "code",
   "execution_count": 24,
   "id": "9f443382",
   "metadata": {},
   "outputs": [
    {
     "name": "stdout",
     "output_type": "stream",
     "text": [
      "I love coding in python --> 0.9122265577316284\n",
      "they chat amagingly well --> 0.7344692349433899\n",
      "I love machine learning. Its awesome. --> 0.7150116562843323\n"
     ]
    },
    {
     "name": "stderr",
     "output_type": "stream",
     "text": [
      "C:\\Users\\pilot\\AppData\\Local\\Temp/ipykernel_8464/543892408.py:1: DeprecationWarning: Call to deprecated `docvecs` (The `docvecs` property has been renamed `dv`.).\n",
      "  similar_doc = model.docvecs.most_similar('2')\n"
     ]
    }
   ],
   "source": [
    "# 2번 문장 : I love building chatbots\n",
    "similar_doc = model.docvecs.most_similar('2')\n",
    "\n",
    "for index, similarity in similar_doc:\n",
    "    index = int(index)\n",
    "    print(f\"{sentences[index]} --> {similarity}\")"
   ]
  },
  {
   "cell_type": "code",
   "execution_count": 25,
   "id": "907c4df0",
   "metadata": {},
   "outputs": [
    {
     "name": "stdout",
     "output_type": "stream",
     "text": [
      "I love building chatbots --> 0.7344693541526794\n",
      "I love coding in python --> 0.7178292870521545\n",
      "I love machine learning. Its awesome. --> 0.46119457483291626\n"
     ]
    },
    {
     "name": "stderr",
     "output_type": "stream",
     "text": [
      "C:\\Users\\pilot\\AppData\\Local\\Temp/ipykernel_8464/1422810615.py:1: DeprecationWarning: Call to deprecated `docvecs` (The `docvecs` property has been renamed `dv`.).\n",
      "  similar_doc = model.docvecs.most_similar('3')\n"
     ]
    }
   ],
   "source": [
    "# 3번 문장 : they chat amagingly well\n",
    "similar_doc = model.docvecs.most_similar('3')\n",
    "\n",
    "for index, similarity in similar_doc:\n",
    "    index = int(index)\n",
    "    print(f\"{sentences[index]} --> {similarity}\")"
   ]
  }
 ],
 "metadata": {
  "kernelspec": {
   "display_name": "Python 3 (ipykernel)",
   "language": "python",
   "name": "python3"
  },
  "language_info": {
   "codemirror_mode": {
    "name": "ipython",
    "version": 3
   },
   "file_extension": ".py",
   "mimetype": "text/x-python",
   "name": "python",
   "nbconvert_exporter": "python",
   "pygments_lexer": "ipython3",
   "version": "3.9.7"
  }
 },
 "nbformat": 4,
 "nbformat_minor": 5
}
