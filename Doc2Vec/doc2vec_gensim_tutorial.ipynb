{
 "cells": [
  {
   "cell_type": "code",
   "execution_count": null,
   "metadata": {
    "id": "SyMsZpTSQHzd"
   },
   "outputs": [],
   "source": [
    "import gensim\n",
    "from pprint import pprint"
   ]
  },
  {
   "cell_type": "code",
   "execution_count": null,
   "metadata": {
    "colab": {
     "base_uri": "https://localhost:8080/"
    },
    "id": "yhihVkjFQRwN",
    "outputId": "eb76a8ae-cf2d-4add-b6d3-739e3f12a16c"
   },
   "outputs": [
    {
     "data": {
      "text/plain": [
       "[['he', 'is', 'a', 'boy'],\n",
       " ['he', 'is', 'a', 'man'],\n",
       " ['she', 'is', 'a', 'girl']]"
      ]
     },
     "execution_count": 11,
     "metadata": {},
     "output_type": "execute_result"
    }
   ],
   "source": [
    "sentences = ['He is a boy', 'He is a man', 'She is a girl']\n",
    "\n",
    "sentences = [s.lower().strip().split() for s in sentences]\n",
    "\n",
    "sentences"
   ]
  },
  {
   "cell_type": "markdown",
   "metadata": {
    "id": "aPpvEUJHQsB7"
   },
   "source": [
    "###### Tagging Sentences\n",
    "###### 하나의 paragraph에 대해서 하나의 sentence를 설정."
   ]
  },
  {
   "cell_type": "code",
   "execution_count": null,
   "metadata": {
    "colab": {
     "base_uri": "https://localhost:8080/"
    },
    "id": "qwatItfuRX1n",
    "outputId": "89b1f484-5204-4b11-9058-3654ba9db86e"
   },
   "outputs": [
    {
     "name": "stdout",
     "output_type": "stream",
     "text": [
      "0 ['he', 'is', 'a', 'boy']\n",
      "1 ['he', 'is', 'a', 'man']\n",
      "2 ['she', 'is', 'a', 'girl']\n"
     ]
    }
   ],
   "source": [
    "for i, s in enumerate(sentences):\n",
    "  print(i, s)"
   ]
  },
  {
   "cell_type": "code",
   "execution_count": null,
   "metadata": {
    "id": "B2IMhTuXQnm3"
   },
   "outputs": [],
   "source": [
    "tagged_documents = []\n",
    "for i, s in enumerate(sentences):\n",
    "    tagged_documents.append(gensim.models.doc2vec.TaggedDocument(s, [i]))\n",
    "\n",
    "doc2vec_model = gensim.models.doc2vec.Doc2Vec(vector_size=50, min_count=1)"
   ]
  },
  {
   "cell_type": "code",
   "execution_count": null,
   "metadata": {
    "colab": {
     "base_uri": "https://localhost:8080/"
    },
    "id": "GNW1GkV7RPl5",
    "outputId": "ba860efe-347a-48b8-c095-52376f2c1bfd"
   },
   "outputs": [
    {
     "data": {
      "text/plain": [
       "<gensim.models.doc2vec.Doc2Vec at 0x7f1d08a29690>"
      ]
     },
     "execution_count": 14,
     "metadata": {},
     "output_type": "execute_result"
    }
   ],
   "source": [
    "doc2vec_model"
   ]
  },
  {
   "cell_type": "markdown",
   "metadata": {
    "id": "at5rQVzgRfaD"
   },
   "source": [
    "###### Building word2vec vocab\n",
    "###### doc2vec은 word2vec에 근거하고 있다."
   ]
  },
  {
   "cell_type": "code",
   "execution_count": null,
   "metadata": {
    "id": "tCQpo1coRoES"
   },
   "outputs": [],
   "source": [
    "doc2vec_model.build_vocab(tagged_documents)"
   ]
  },
  {
   "cell_type": "code",
   "execution_count": null,
   "metadata": {
    "id": "YShS_koaRz6O"
   },
   "outputs": [],
   "source": [
    "# Train tagged_documents\n",
    "doc2vec_model.train(tagged_documents, total_examples=len(tagged_documents), epochs=300)"
   ]
  },
  {
   "cell_type": "code",
   "execution_count": null,
   "metadata": {
    "colab": {
     "base_uri": "https://localhost:8080/"
    },
    "id": "elzppjrTS1KH",
    "outputId": "45bf23d7-4716-4b79-be71-ce6435fdcb86"
   },
   "outputs": [
    {
     "name": "stdout",
     "output_type": "stream",
     "text": [
      "---- Document Vector ----\n",
      "Document, 'he is a man' to vector [-0.01515365  0.0103257   0.01213598  0.02197052 -0.00239013]\n"
     ]
    }
   ],
   "source": [
    "# Infer new document vector \n",
    "# not string, use list of string as input\n",
    "print(\"---- Document Vector ----\")\n",
    "new_document = 'he is a man'\n",
    "new_doc_vector = doc2vec_model.infer_vector(new_document.lower().split(\" \"))\n",
    "print(f\"Document, '{new_document}' to vector {new_doc_vector[:5]}\")"
   ]
  },
  {
   "cell_type": "code",
   "execution_count": null,
   "metadata": {
    "colab": {
     "base_uri": "https://localhost:8080/"
    },
    "id": "wadTcDFmTXRr",
    "outputId": "03c4847b-1a66-47da-aaaf-a636ff9096f0"
   },
   "outputs": [
    {
     "name": "stdout",
     "output_type": "stream",
     "text": [
      "---- Word similarity ----\n",
      "[('he', 0.2349940985441208),\n",
      " ('girl', 0.1688927561044693),\n",
      " ('man', 0.09743630886077881),\n",
      " ('is', 0.014727441594004631),\n",
      " ('a', 0.005051769316196442),\n",
      " ('boy', -0.11151957511901855),\n",
      " ('she', -0.11516711115837097)]\n"
     ]
    }
   ],
   "source": [
    "# Using word2vec similarity \n",
    "# Document 전체에 대하여 similarity를 측정하여, 가장 가까운 word_vector를 사용해서 결과를 리턴.\n",
    "print(\"---- Word similarity ----\")\n",
    "pprint(doc2vec_model.wv.similar_by_vector(new_doc_vector))"
   ]
  },
  {
   "cell_type": "code",
   "execution_count": null,
   "metadata": {
    "colab": {
     "base_uri": "https://localhost:8080/"
    },
    "id": "H6AuHXbWTxbR",
    "outputId": "1fa0b155-1223-4b65-cb51-7fa82b5939a5"
   },
   "outputs": [
    {
     "name": "stdout",
     "output_type": "stream",
     "text": [
      "---- Document similarity ----\n",
      "Document 1 - similarity: 0.85703\n",
      "Document 0 - similarity: 0.72945\n",
      "Document 2 - similarity: 0.71735\n"
     ]
    }
   ],
   "source": [
    "# Using doc2vec simliarity\n",
    "# doc2vec.most_similar --> word에 대한 vector에 기반해서 처리\n",
    "print('---- Document similarity ----')\n",
    "doc_sim_list = doc2vec_model.docvecs.most_similar(positive=[new_doc_vector], topn=len(doc2vec_model.docvecs))\n",
    "for doc_id, sim in doc_sim_list:\n",
    "    print(f\"Document {doc_id} - similarity: {sim:.5f}\")\n",
    "\n",
    "# Document 1:He is a man\n",
    "# Document 0:He is a boy\n",
    "# Document 2:She is a girl\n"
   ]
  }
 ],
 "metadata": {
  "colab": {
   "collapsed_sections": [],
   "name": "doc2vec gensim tutorial",
   "provenance": []
  },
  "kernelspec": {
   "display_name": "Python 3 (ipykernel)",
   "language": "python",
   "name": "python3"
  },
  "language_info": {
   "codemirror_mode": {
    "name": "ipython",
    "version": 3
   },
   "file_extension": ".py",
   "mimetype": "text/x-python",
   "name": "python",
   "nbconvert_exporter": "python",
   "pygments_lexer": "ipython3",
   "version": "3.9.7"
  }
 },
 "nbformat": 4,
 "nbformat_minor": 1
}
