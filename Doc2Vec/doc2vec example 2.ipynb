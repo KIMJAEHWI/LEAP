{
 "cells": [
  {
   "cell_type": "code",
   "execution_count": 1,
   "id": "6da7e0e9",
   "metadata": {},
   "outputs": [],
   "source": [
    "import pandas, nltk\n",
    "from gensim.models.doc2vec import Doc2Vec, TaggedDocument\n",
    "from nltk.tokenize import RegexpTokenizer"
   ]
  },
  {
   "cell_type": "code",
   "execution_count": 2,
   "id": "54039937",
   "metadata": {},
   "outputs": [],
   "source": [
    "filename = 'C:/Users/pilot/바탕 화면/2022 재 휘/2022 소모임 LEAP/Doc2Vec/hotel-reviews.csv'\n",
    "df = pandas.read_csv(filename, sep=',')"
   ]
  },
  {
   "cell_type": "code",
   "execution_count": 3,
   "id": "0dc5ce72",
   "metadata": {},
   "outputs": [
    {
     "data": {
      "text/html": [
       "<div>\n",
       "<style scoped>\n",
       "    .dataframe tbody tr th:only-of-type {\n",
       "        vertical-align: middle;\n",
       "    }\n",
       "\n",
       "    .dataframe tbody tr th {\n",
       "        vertical-align: top;\n",
       "    }\n",
       "\n",
       "    .dataframe thead th {\n",
       "        text-align: right;\n",
       "    }\n",
       "</style>\n",
       "<table border=\"1\" class=\"dataframe\">\n",
       "  <thead>\n",
       "    <tr style=\"text-align: right;\">\n",
       "      <th></th>\n",
       "      <th>User_ID</th>\n",
       "      <th>Description</th>\n",
       "      <th>Browser_Used</th>\n",
       "      <th>Device_Used</th>\n",
       "      <th>Is_Response</th>\n",
       "    </tr>\n",
       "  </thead>\n",
       "  <tbody>\n",
       "    <tr>\n",
       "      <th>0</th>\n",
       "      <td>id10326</td>\n",
       "      <td>The room was kind of clean but had a VERY stro...</td>\n",
       "      <td>Edge</td>\n",
       "      <td>Mobile</td>\n",
       "      <td>not happy</td>\n",
       "    </tr>\n",
       "    <tr>\n",
       "      <th>1</th>\n",
       "      <td>id10327</td>\n",
       "      <td>I stayed at the Crown Plaza April -- - April -...</td>\n",
       "      <td>Internet Explorer</td>\n",
       "      <td>Mobile</td>\n",
       "      <td>not happy</td>\n",
       "    </tr>\n",
       "    <tr>\n",
       "      <th>2</th>\n",
       "      <td>id10328</td>\n",
       "      <td>I booked this hotel through Hotwire at the low...</td>\n",
       "      <td>Mozilla</td>\n",
       "      <td>Tablet</td>\n",
       "      <td>not happy</td>\n",
       "    </tr>\n",
       "    <tr>\n",
       "      <th>3</th>\n",
       "      <td>id10329</td>\n",
       "      <td>Stayed here with husband and sons on the way t...</td>\n",
       "      <td>InternetExplorer</td>\n",
       "      <td>Desktop</td>\n",
       "      <td>happy</td>\n",
       "    </tr>\n",
       "    <tr>\n",
       "      <th>4</th>\n",
       "      <td>id10330</td>\n",
       "      <td>My girlfriends and I stayed here to celebrate ...</td>\n",
       "      <td>Edge</td>\n",
       "      <td>Tablet</td>\n",
       "      <td>not happy</td>\n",
       "    </tr>\n",
       "  </tbody>\n",
       "</table>\n",
       "</div>"
      ],
      "text/plain": [
       "   User_ID                                        Description  \\\n",
       "0  id10326  The room was kind of clean but had a VERY stro...   \n",
       "1  id10327  I stayed at the Crown Plaza April -- - April -...   \n",
       "2  id10328  I booked this hotel through Hotwire at the low...   \n",
       "3  id10329  Stayed here with husband and sons on the way t...   \n",
       "4  id10330  My girlfriends and I stayed here to celebrate ...   \n",
       "\n",
       "        Browser_Used Device_Used Is_Response  \n",
       "0               Edge      Mobile   not happy  \n",
       "1  Internet Explorer      Mobile   not happy  \n",
       "2            Mozilla      Tablet   not happy  \n",
       "3   InternetExplorer     Desktop       happy  \n",
       "4               Edge      Tablet   not happy  "
      ]
     },
     "execution_count": 3,
     "metadata": {},
     "output_type": "execute_result"
    }
   ],
   "source": [
    "df.head()"
   ]
  },
  {
   "cell_type": "code",
   "execution_count": 5,
   "id": "f9398876",
   "metadata": {},
   "outputs": [],
   "source": [
    "# RegexpTokenizer를 이용해 호텔 리뷰 문장을 토큰화\n",
    "\n",
    "def nltk_tokenizer(_wd):\n",
    "    return RegexpTokenizer(r'\\w+').tokenize(_wd.lower())\n",
    "\n",
    "df['Token_Description'] = df['Description'].apply(nltk_tokenizer)"
   ]
  },
  {
   "cell_type": "code",
   "execution_count": 6,
   "id": "39ef4da6",
   "metadata": {
    "scrolled": true
   },
   "outputs": [
    {
     "data": {
      "text/html": [
       "<div>\n",
       "<style scoped>\n",
       "    .dataframe tbody tr th:only-of-type {\n",
       "        vertical-align: middle;\n",
       "    }\n",
       "\n",
       "    .dataframe tbody tr th {\n",
       "        vertical-align: top;\n",
       "    }\n",
       "\n",
       "    .dataframe thead th {\n",
       "        text-align: right;\n",
       "    }\n",
       "</style>\n",
       "<table border=\"1\" class=\"dataframe\">\n",
       "  <thead>\n",
       "    <tr style=\"text-align: right;\">\n",
       "      <th></th>\n",
       "      <th>User_ID</th>\n",
       "      <th>Description</th>\n",
       "      <th>Browser_Used</th>\n",
       "      <th>Device_Used</th>\n",
       "      <th>Is_Response</th>\n",
       "      <th>Token_Description</th>\n",
       "    </tr>\n",
       "  </thead>\n",
       "  <tbody>\n",
       "    <tr>\n",
       "      <th>0</th>\n",
       "      <td>id10326</td>\n",
       "      <td>The room was kind of clean but had a VERY stro...</td>\n",
       "      <td>Edge</td>\n",
       "      <td>Mobile</td>\n",
       "      <td>not happy</td>\n",
       "      <td>[the, room, was, kind, of, clean, but, had, a,...</td>\n",
       "    </tr>\n",
       "    <tr>\n",
       "      <th>1</th>\n",
       "      <td>id10327</td>\n",
       "      <td>I stayed at the Crown Plaza April -- - April -...</td>\n",
       "      <td>Internet Explorer</td>\n",
       "      <td>Mobile</td>\n",
       "      <td>not happy</td>\n",
       "      <td>[i, stayed, at, the, crown, plaza, april, apri...</td>\n",
       "    </tr>\n",
       "    <tr>\n",
       "      <th>2</th>\n",
       "      <td>id10328</td>\n",
       "      <td>I booked this hotel through Hotwire at the low...</td>\n",
       "      <td>Mozilla</td>\n",
       "      <td>Tablet</td>\n",
       "      <td>not happy</td>\n",
       "      <td>[i, booked, this, hotel, through, hotwire, at,...</td>\n",
       "    </tr>\n",
       "    <tr>\n",
       "      <th>3</th>\n",
       "      <td>id10329</td>\n",
       "      <td>Stayed here with husband and sons on the way t...</td>\n",
       "      <td>InternetExplorer</td>\n",
       "      <td>Desktop</td>\n",
       "      <td>happy</td>\n",
       "      <td>[stayed, here, with, husband, and, sons, on, t...</td>\n",
       "    </tr>\n",
       "    <tr>\n",
       "      <th>4</th>\n",
       "      <td>id10330</td>\n",
       "      <td>My girlfriends and I stayed here to celebrate ...</td>\n",
       "      <td>Edge</td>\n",
       "      <td>Tablet</td>\n",
       "      <td>not happy</td>\n",
       "      <td>[my, girlfriends, and, i, stayed, here, to, ce...</td>\n",
       "    </tr>\n",
       "  </tbody>\n",
       "</table>\n",
       "</div>"
      ],
      "text/plain": [
       "   User_ID                                        Description  \\\n",
       "0  id10326  The room was kind of clean but had a VERY stro...   \n",
       "1  id10327  I stayed at the Crown Plaza April -- - April -...   \n",
       "2  id10328  I booked this hotel through Hotwire at the low...   \n",
       "3  id10329  Stayed here with husband and sons on the way t...   \n",
       "4  id10330  My girlfriends and I stayed here to celebrate ...   \n",
       "\n",
       "        Browser_Used Device_Used Is_Response  \\\n",
       "0               Edge      Mobile   not happy   \n",
       "1  Internet Explorer      Mobile   not happy   \n",
       "2            Mozilla      Tablet   not happy   \n",
       "3   InternetExplorer     Desktop       happy   \n",
       "4               Edge      Tablet   not happy   \n",
       "\n",
       "                                   Token_Description  \n",
       "0  [the, room, was, kind, of, clean, but, had, a,...  \n",
       "1  [i, stayed, at, the, crown, plaza, april, apri...  \n",
       "2  [i, booked, this, hotel, through, hotwire, at,...  \n",
       "3  [stayed, here, with, husband, and, sons, on, t...  \n",
       "4  [my, girlfriends, and, i, stayed, here, to, ce...  "
      ]
     },
     "execution_count": 6,
     "metadata": {},
     "output_type": "execute_result"
    }
   ],
   "source": [
    "df.head()"
   ]
  },
  {
   "cell_type": "code",
   "execution_count": 7,
   "id": "3bd01189",
   "metadata": {},
   "outputs": [
    {
     "data": {
      "text/html": [
       "<div>\n",
       "<style scoped>\n",
       "    .dataframe tbody tr th:only-of-type {\n",
       "        vertical-align: middle;\n",
       "    }\n",
       "\n",
       "    .dataframe tbody tr th {\n",
       "        vertical-align: top;\n",
       "    }\n",
       "\n",
       "    .dataframe thead th {\n",
       "        text-align: right;\n",
       "    }\n",
       "</style>\n",
       "<table border=\"1\" class=\"dataframe\">\n",
       "  <thead>\n",
       "    <tr style=\"text-align: right;\">\n",
       "      <th></th>\n",
       "      <th>User_ID</th>\n",
       "      <th>Token_Description</th>\n",
       "    </tr>\n",
       "  </thead>\n",
       "  <tbody>\n",
       "    <tr>\n",
       "      <th>0</th>\n",
       "      <td>id10326</td>\n",
       "      <td>[the, room, was, kind, of, clean, but, had, a,...</td>\n",
       "    </tr>\n",
       "    <tr>\n",
       "      <th>1</th>\n",
       "      <td>id10327</td>\n",
       "      <td>[i, stayed, at, the, crown, plaza, april, apri...</td>\n",
       "    </tr>\n",
       "    <tr>\n",
       "      <th>2</th>\n",
       "      <td>id10328</td>\n",
       "      <td>[i, booked, this, hotel, through, hotwire, at,...</td>\n",
       "    </tr>\n",
       "    <tr>\n",
       "      <th>3</th>\n",
       "      <td>id10329</td>\n",
       "      <td>[stayed, here, with, husband, and, sons, on, t...</td>\n",
       "    </tr>\n",
       "    <tr>\n",
       "      <th>4</th>\n",
       "      <td>id10330</td>\n",
       "      <td>[my, girlfriends, and, i, stayed, here, to, ce...</td>\n",
       "    </tr>\n",
       "  </tbody>\n",
       "</table>\n",
       "</div>"
      ],
      "text/plain": [
       "   User_ID                                  Token_Description\n",
       "0  id10326  [the, room, was, kind, of, clean, but, had, a,...\n",
       "1  id10327  [i, stayed, at, the, crown, plaza, april, apri...\n",
       "2  id10328  [i, booked, this, hotel, through, hotwire, at,...\n",
       "3  id10329  [stayed, here, with, husband, and, sons, on, t...\n",
       "4  id10330  [my, girlfriends, and, i, stayed, here, to, ce..."
      ]
     },
     "execution_count": 7,
     "metadata": {},
     "output_type": "execute_result"
    }
   ],
   "source": [
    "df[['User_ID', 'Token_Description']].head()"
   ]
  },
  {
   "cell_type": "code",
   "execution_count": 8,
   "id": "25db3460",
   "metadata": {},
   "outputs": [],
   "source": [
    "doc_df = df[['User_ID', 'Token_Description']].values.tolist()"
   ]
  },
  {
   "cell_type": "code",
   "execution_count": 9,
   "id": "d2ccd5e8",
   "metadata": {},
   "outputs": [
    {
     "name": "stdout",
     "output_type": "stream",
     "text": [
      "['id10326', ['the', 'room', 'was', 'kind', 'of', 'clean', 'but', 'had', 'a', 'very', 'strong', 'smell', 'of', 'dogs', 'generally', 'below', 'average', 'but', 'ok', 'for', 'a', 'overnight', 'stay', 'if', 'you', 're', 'not', 'too', 'fussy', 'would', 'consider', 'staying', 'again', 'if', 'the', 'price', 'was', 'right', 'breakfast', 'was', 'free', 'and', 'just', 'about', 'better', 'than', 'nothing']]\n"
     ]
    }
   ],
   "source": [
    "print(doc_df[0])"
   ]
  },
  {
   "cell_type": "code",
   "execution_count": 10,
   "id": "3e3fcb7a",
   "metadata": {},
   "outputs": [],
   "source": [
    "# words = 토큰 list\n",
    "# tags = 문서 ID\n",
    "tagged_data = [TaggedDocument(words=_d, tags=[uid]) for uid, _d in doc_df]"
   ]
  },
  {
   "cell_type": "code",
   "execution_count": 11,
   "id": "6a846c69",
   "metadata": {},
   "outputs": [
    {
     "name": "stdout",
     "output_type": "stream",
     "text": [
      "iterartion 0\n",
      "iterartion 1\n",
      "iterartion 2\n",
      "iterartion 3\n",
      "iterartion 4\n",
      "iterartion 5\n",
      "iterartion 6\n",
      "iterartion 7\n",
      "iterartion 8\n",
      "iterartion 9\n"
     ]
    },
    {
     "data": {
      "text/plain": [
       "'\\nwindow: 모델 학습할 때 앞뒤로 보는 단어의 수\\nsize: 벡터 차원의 크기\\nalpha: learning rate\\nmin_count: 학습에 사용할 최소 단어 빈도 수\\ndm: 학습방법 1 = PV-DM, 0 = PV-DBOW\\nnegative: Complexity Reduction 방법, negative sampling\\nmax_epochs: 최대 학습 횟수\\n'"
      ]
     },
     "execution_count": 11,
     "metadata": {},
     "output_type": "execute_result"
    }
   ],
   "source": [
    "# Training\n",
    "\n",
    "max_epochs = 10\n",
    "model = Doc2Vec(window=10, vector_size=150, alpha=0.025, min_alpha=0.025, min_count=2, dm=1, negative=5, seed=9999)\n",
    "\n",
    "model.build_vocab(tagged_data)\n",
    "\n",
    "for epoch in range(max_epochs):\n",
    "    print(f\"iterartion {epoch}\")\n",
    "    model.train(tagged_data, total_examples=model.corpus_count, epochs=model.epochs)\n",
    "    \n",
    "    model.alpha -= 0.002\n",
    "    \n",
    "    model.min_alpha = model.alpha\n",
    "\"\"\"\n",
    "window: 모델 학습할 때 앞뒤로 보는 단어의 수\n",
    "size: 벡터 차원의 크기\n",
    "alpha: learning rate\n",
    "min_count: 학습에 사용할 최소 단어 빈도 수\n",
    "dm: 학습방법 1 = PV-DM, 0 = PV-DBOW\n",
    "negative: Complexity Reduction 방법, negative sampling\n",
    "max_epochs: 최대 학습 횟수\n",
    "\"\"\""
   ]
  },
  {
   "cell_type": "code",
   "execution_count": 12,
   "id": "8695e2ea",
   "metadata": {},
   "outputs": [
    {
     "data": {
      "text/plain": [
       "'\\n특정 문서와 유사한 문서를 찾기 위해서는 2단계를 거친다.\\n1. 문서의 vector화\\n2. 변환된 vector와 가장 가까운 vector 추출\\n* infer_vector 사용시 seed값을 주지 않으면 random한값이 seed로 사용되어 값이 계속 변경된다.\\n* 학습되지 않은 단어를 사용한 문서도 결과가 나온다.\\n'"
      ]
     },
     "execution_count": 12,
     "metadata": {},
     "output_type": "execute_result"
    }
   ],
   "source": [
    "model.random.seed(9999)\n",
    "\"\"\"\n",
    "특정 문서와 유사한 문서를 찾기 위해서는 2단계를 거친다.\n",
    "1. 문서의 vector화\n",
    "2. 변환된 vector와 가장 가까운 vector 추출\n",
    "* infer_vector 사용시 seed값을 주지 않으면 random한값이 seed로 사용되어 값이 계속 변경된다.\n",
    "* 학습되지 않은 단어를 사용한 문서도 결과가 나온다.\n",
    "\"\"\""
   ]
  },
  {
   "cell_type": "code",
   "execution_count": 13,
   "id": "18a0c509",
   "metadata": {},
   "outputs": [
    {
     "name": "stdout",
     "output_type": "stream",
     "text": [
      "id32805 0.8009138107299805 Staff was extremely polite and helpful. Rooms were clean.\n",
      "id33500 0.8007739186286926 Great clean rooms very spacious, clean friendly staff!\n",
      "id39837 0.7866826057434082 Great place to stay!\n",
      "id31567 0.7840836048126221 Perfect location and great value.\n",
      "id22388 0.7829453349113464 The employees were very accommodating and friendly\n"
     ]
    },
    {
     "name": "stderr",
     "output_type": "stream",
     "text": [
      "C:\\Users\\pilot\\AppData\\Local\\Temp/ipykernel_15284/2795834869.py:4: DeprecationWarning: Call to deprecated `docvecs` (The `docvecs` property has been renamed `dv`.).\n",
      "  return_docs = model.docvecs.most_similar(positive=[inferred_vector],topn=5)\n"
     ]
    }
   ],
   "source": [
    "doc_list = 'Rooms were clean'.split(' ')\n",
    "\n",
    "inferred_vector = model.infer_vector(doc_list)\n",
    "return_docs = model.docvecs.most_similar(positive=[inferred_vector],topn=5)\n",
    "for rd in return_docs:\n",
    "    for des in df[df['User_ID'] == rd[0]]['Description']:\n",
    "        print(rd[0], rd[1], des)"
   ]
  }
 ],
 "metadata": {
  "kernelspec": {
   "display_name": "Python 3 (ipykernel)",
   "language": "python",
   "name": "python3"
  },
  "language_info": {
   "codemirror_mode": {
    "name": "ipython",
    "version": 3
   },
   "file_extension": ".py",
   "mimetype": "text/x-python",
   "name": "python",
   "nbconvert_exporter": "python",
   "pygments_lexer": "ipython3",
   "version": "3.9.7"
  }
 },
 "nbformat": 4,
 "nbformat_minor": 5
}
